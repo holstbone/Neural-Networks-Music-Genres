{
  "nbformat": 4,
  "nbformat_minor": 0,
  "metadata": {
    "colab": {
      "name": "A.4_4B_Modeling_Experiments.ipynb",
      "provenance": [],
      "collapsed_sections": [],
      "mount_file_id": "12bunhPfrm_wYKDS2MvcVxZsbTUmp1aSS",
      "authorship_tag": "ABX9TyOqpZ+UEG3H5zkjkzWXKiIB",
      "include_colab_link": true
    },
    "kernelspec": {
      "name": "python3",
      "display_name": "Python 3"
    },
    "language_info": {
      "name": "python"
    },
    "accelerator": "GPU"
  },
  "cells": [
    {
      "cell_type": "markdown",
      "metadata": {
        "id": "view-in-github",
        "colab_type": "text"
      },
      "source": [
        "<a href=\"https://colab.research.google.com/github/holstbone/Neural-Networks-Music-Genres/blob/main/A_4_4B_Modeling_Experiments.ipynb\" target=\"_parent\"><img src=\"https://colab.research.google.com/assets/colab-badge.svg\" alt=\"Open In Colab\"/></a>"
      ]
    },
    {
      "cell_type": "markdown",
      "metadata": {
        "id": "n5GmWzytEwJJ"
      },
      "source": [
        "# A.4 Music \"Vision\"\n",
        "\n"
      ]
    },
    {
      "cell_type": "markdown",
      "metadata": {
        "id": "yfitjAihGYOL"
      },
      "source": [
        "# Andy's Work Starts Here:"
      ]
    },
    {
      "cell_type": "markdown",
      "metadata": {
        "id": "V3cURMEUknCv"
      },
      "source": [
        "## Part 3A: Exemplar Code for Modeling using ImageDataGenerator Pipeline (adapted from Brownlee)"
      ]
    },
    {
      "cell_type": "code",
      "metadata": {
        "id": "cG1cxArer6jl"
      },
      "source": [
        "import sys\n",
        "from matplotlib import pyplot\n",
        "from keras.models import Sequential\n",
        "from keras.layers import Conv2D\n",
        "from keras.layers import MaxPooling2D\n",
        "from keras.layers import Dense\n",
        "from keras.layers import Flatten\n",
        "from keras.optimizers import SGD\n",
        "from keras.preprocessing.image import ImageDataGenerator"
      ],
      "execution_count": null,
      "outputs": []
    },
    {
      "cell_type": "code",
      "metadata": {
        "id": "hCndLvWJvY93"
      },
      "source": [
        "zip_path = '/content/drive/MyDrive/spectrograms3sec/data.zip'\n",
        "!cp \"{zip_path}\" .\n",
        "!unzip -q data.zip\n",
        "!rm data.zip"
      ],
      "execution_count": null,
      "outputs": []
    },
    {
      "cell_type": "markdown",
      "metadata": {
        "id": "ZC6m-D7YwEUu"
      },
      "source": [
        "# 1-VGG Block Baseline Model"
      ]
    },
    {
      "cell_type": "code",
      "metadata": {
        "id": "2wrgIifdv_zt"
      },
      "source": [
        "# define cnn model\n",
        "def define_model():\n",
        "  model = Sequential()\n",
        "  model.add(Conv2D(32, (3, 3), activation='relu', kernel_initializer='he_uniform',\n",
        "                   padding='same', input_shape=(220, 216, 3)))\n",
        "  model.add(MaxPooling2D((2, 2)))\n",
        "  model.add(Flatten())\n",
        "  model.add(Dense(128, activation='relu', kernel_initializer='he_uniform'))\n",
        "  model.add(Dense(10, activation='softmax'))\n",
        "  # compile model\n",
        "  opt = SGD(learning_rate=0.001, momentum=0.9)\n",
        "  model.compile(optimizer=opt, loss='categorical_crossentropy', metrics=['accuracy'])\n",
        "  return model"
      ],
      "execution_count": null,
      "outputs": []
    },
    {
      "cell_type": "code",
      "metadata": {
        "id": "H_HUXPN-yAQq"
      },
      "source": [
        "# plot diagnostic learning curves\n",
        "def summarize_diagnostics(history):\n",
        "  # plot loss\n",
        "  pyplot.subplot(211)\n",
        "  pyplot.title('Cross Entropy Loss')\n",
        "  pyplot.plot(history.history['loss'], color='blue', label='train')\n",
        "  pyplot.plot(history.history['val_loss'], color='orange', label='test')\n",
        "  # plot accuracy\n",
        "  pyplot.subplot(212)\n",
        "  pyplot.title('Classification Accuracy')\n",
        "  pyplot.plot(history.history['accuracy'], color='blue', label='train')\n",
        "  pyplot.plot(history.history['val_accuracy'], color='orange', label='test')\n",
        "  # save plot to file\n",
        "  filename = sys.argv[0].split('/')[-1]\n",
        "  pyplot.savefig(filename + '_plot.png')\n",
        "  pyplot.close()\n"
      ],
      "execution_count": null,
      "outputs": []
    },
    {
      "cell_type": "code",
      "metadata": {
        "id": "tJ8zK5e1ygCn"
      },
      "source": [
        "# run the test harness for evaluating a model\n",
        "def run_test_harness():\n",
        "  # define model\n",
        "  model = define_model()\n",
        "  # create data generator\n",
        "  datagen = ImageDataGenerator(rescale=1.0/255.0)\n",
        "  # prepare iterators\n",
        "  train_it = datagen.flow_from_directory('data/train/',\n",
        "                                         class_mode='categorical', batch_size=16, \n",
        "                                         target_size=(220, 216))\n",
        "  valid_it = datagen.flow_from_directory('data/validation/',\n",
        "                                        class_mode='categorical', \n",
        "                                        batch_size=16, \n",
        "                                        target_size=(220, 216))\n",
        "  test_it = datagen.flow_from_directory('data/test/',\n",
        "                                        class_mode='categorical', \n",
        "                                        batch_size=16, \n",
        "                                        target_size=(220, 216))\n",
        "  # fit model\n",
        "  history = model.fit(train_it, steps_per_epoch=len(train_it),\n",
        "                      validation_data=valid_it, \n",
        "                      validation_steps=len(valid_it), \n",
        "                      epochs=20, verbose=1)\n",
        "  # evaluate model\n",
        "  _, acc = model.evaluate(test_it, steps=len(test_it), verbose=0)\n",
        "  print('> %.3f' % (acc * 100.0))\n",
        "  # learning curves\n",
        "  summarize_diagnostics(history)"
      ],
      "execution_count": null,
      "outputs": []
    },
    {
      "cell_type": "code",
      "metadata": {
        "colab": {
          "base_uri": "https://localhost:8080/"
        },
        "id": "wp1f4YCAz8AX",
        "outputId": "6b994309-3305-4399-9d55-f9d6c061a2d4"
      },
      "source": [
        "# entry point, run the test harness\n",
        "run_test_harness()"
      ],
      "execution_count": null,
      "outputs": [
        {
          "output_type": "stream",
          "text": [
            "Found 8000 images belonging to 10 classes.\n",
            "Found 1000 images belonging to 10 classes.\n",
            "Found 1000 images belonging to 10 classes.\n",
            "Epoch 1/20\n",
            "500/500 [==============================] - 77s 70ms/step - loss: 3.0898 - accuracy: 0.0991 - val_loss: 2.3026 - val_accuracy: 0.1000\n",
            "Epoch 2/20\n",
            "500/500 [==============================] - 34s 68ms/step - loss: 2.3028 - accuracy: 0.0953 - val_loss: 2.3026 - val_accuracy: 0.1000\n",
            "Epoch 3/20\n",
            "500/500 [==============================] - 33s 67ms/step - loss: 2.3027 - accuracy: 0.0990 - val_loss: 2.3002 - val_accuracy: 0.1120\n",
            "Epoch 4/20\n",
            "500/500 [==============================] - 34s 67ms/step - loss: 2.2070 - accuracy: 0.1500 - val_loss: 2.1006 - val_accuracy: 0.1990\n",
            "Epoch 5/20\n",
            "500/500 [==============================] - 33s 67ms/step - loss: 2.0690 - accuracy: 0.2064 - val_loss: 2.0477 - val_accuracy: 0.1950\n",
            "Epoch 6/20\n",
            "500/500 [==============================] - 34s 67ms/step - loss: 2.0337 - accuracy: 0.2249 - val_loss: 1.9385 - val_accuracy: 0.2270\n",
            "Epoch 7/20\n",
            "500/500 [==============================] - 34s 69ms/step - loss: 1.8840 - accuracy: 0.2733 - val_loss: 1.7664 - val_accuracy: 0.3250\n",
            "Epoch 8/20\n",
            "500/500 [==============================] - 34s 68ms/step - loss: 1.7443 - accuracy: 0.3601 - val_loss: 1.7083 - val_accuracy: 0.3660\n",
            "Epoch 9/20\n",
            "500/500 [==============================] - 34s 69ms/step - loss: 1.6703 - accuracy: 0.3862 - val_loss: 1.6656 - val_accuracy: 0.3630\n",
            "Epoch 10/20\n",
            "500/500 [==============================] - 34s 68ms/step - loss: 1.6079 - accuracy: 0.3937 - val_loss: 1.5862 - val_accuracy: 0.3940\n",
            "Epoch 11/20\n",
            "500/500 [==============================] - 35s 69ms/step - loss: 1.5432 - accuracy: 0.4156 - val_loss: 1.4482 - val_accuracy: 0.4430\n",
            "Epoch 12/20\n",
            "500/500 [==============================] - 33s 66ms/step - loss: 1.4197 - accuracy: 0.4672 - val_loss: 1.3782 - val_accuracy: 0.4760\n",
            "Epoch 13/20\n",
            "500/500 [==============================] - 35s 69ms/step - loss: 1.3163 - accuracy: 0.5041 - val_loss: 1.4584 - val_accuracy: 0.4530\n",
            "Epoch 14/20\n",
            "500/500 [==============================] - 33s 66ms/step - loss: 1.2455 - accuracy: 0.5384 - val_loss: 1.2855 - val_accuracy: 0.5430\n",
            "Epoch 15/20\n",
            "500/500 [==============================] - 34s 69ms/step - loss: 1.1245 - accuracy: 0.5843 - val_loss: 1.2976 - val_accuracy: 0.5350\n",
            "Epoch 16/20\n",
            "500/500 [==============================] - 33s 65ms/step - loss: 1.0444 - accuracy: 0.6160 - val_loss: 1.2287 - val_accuracy: 0.5580\n",
            "Epoch 17/20\n",
            "500/500 [==============================] - 34s 68ms/step - loss: 0.9697 - accuracy: 0.6508 - val_loss: 1.2794 - val_accuracy: 0.5600\n",
            "Epoch 18/20\n",
            "500/500 [==============================] - 34s 68ms/step - loss: 0.8988 - accuracy: 0.6839 - val_loss: 1.2642 - val_accuracy: 0.5630\n",
            "Epoch 19/20\n",
            "500/500 [==============================] - 32s 65ms/step - loss: 0.7922 - accuracy: 0.7140 - val_loss: 1.2239 - val_accuracy: 0.5960\n",
            "Epoch 20/20\n",
            "500/500 [==============================] - 34s 69ms/step - loss: 0.7224 - accuracy: 0.7543 - val_loss: 1.3120 - val_accuracy: 0.5660\n",
            "> 59.000\n"
          ],
          "name": "stdout"
        }
      ]
    },
    {
      "cell_type": "code",
      "metadata": {
        "id": "IV3YnuWz3kc8",
        "colab": {
          "base_uri": "https://localhost:8080/"
        },
        "outputId": "fb819a4a-e6c9-4695-df8c-ff32bf66b5b5"
      },
      "source": [
        "%%shell\n",
        "jupyter nbconvert --to html /content/MSDS458_A_4_4B_Modeling_Experiments.ipynb"
      ],
      "execution_count": null,
      "outputs": [
        {
          "output_type": "stream",
          "text": [
            "[NbConvertApp] Converting notebook /content/MSDS458_A_4_4B_Modeling_Experiments.ipynb to html\n",
            "[NbConvertApp] Writing 294041 bytes to /content/MSDS458_A_4_4B_Modeling_Experiments.html\n"
          ],
          "name": "stdout"
        },
        {
          "output_type": "execute_result",
          "data": {
            "text/plain": [
              ""
            ]
          },
          "metadata": {
            "tags": []
          },
          "execution_count": 1
        }
      ]
    }
  ]
}