{
  "nbformat": 4,
  "nbformat_minor": 0,
  "metadata": {
    "colab": {
      "name": "A.4_4A_Modeling_Experiments.ipynb",
      "provenance": [],
      "collapsed_sections": [],
      "mount_file_id": "1GGqlAdr2-FiuG1SZGxip5KjIowTlElNi",
      "authorship_tag": "ABX9TyNl2IDSqs2LFBhbJ0p0Q+cs",
      "include_colab_link": true
    },
    "kernelspec": {
      "name": "python3",
      "display_name": "Python 3"
    },
    "language_info": {
      "name": "python"
    },
    "accelerator": "GPU"
  },
  "cells": [
    {
      "cell_type": "markdown",
      "metadata": {
        "id": "view-in-github",
        "colab_type": "text"
      },
      "source": [
        "<a href=\"https://colab.research.google.com/github/holstbone/Neural-Networks-Music-Genres/blob/main/A_4_4A_Modeling_Experiments.ipynb\" target=\"_parent\"><img src=\"https://colab.research.google.com/assets/colab-badge.svg\" alt=\"Open In Colab\"/></a>"
      ]
    },
    {
      "cell_type": "markdown",
      "metadata": {
        "id": "n5GmWzytEwJJ"
      },
      "source": [
        "# A.4 Music \"Vision\"\n",
        "\n"
      ]
    },
    {
      "cell_type": "markdown",
      "metadata": {
        "id": "yfitjAihGYOL"
      },
      "source": [
        "# Andy's Work Starts Here:"
      ]
    },
    {
      "cell_type": "markdown",
      "metadata": {
        "id": "V3cURMEUknCv"
      },
      "source": [
        "## Part 3A: Exemplar Code for Modeling using ImageDataGenerator Pipeline (adapted from Brownlee)"
      ]
    },
    {
      "cell_type": "code",
      "metadata": {
        "id": "cG1cxArer6jl"
      },
      "source": [
        "import sys\n",
        "from matplotlib import pyplot\n",
        "from keras.models import Sequential\n",
        "from keras.layers import Conv2D\n",
        "from keras.layers import MaxPooling2D\n",
        "from keras.layers import Dense\n",
        "from keras.layers import Flatten\n",
        "from keras.optimizers import SGD\n",
        "from keras.preprocessing.image import ImageDataGenerator"
      ],
      "execution_count": null,
      "outputs": []
    },
    {
      "cell_type": "code",
      "metadata": {
        "id": "hCndLvWJvY93"
      },
      "source": [
        "zip_path = '/content/drive/MyDrive/spectrograms3sec/data_small.zip'\n",
        "!cp \"{zip_path}\" .\n",
        "!unzip -q data.zip\n",
        "!rm data.zip"
      ],
      "execution_count": null,
      "outputs": []
    },
    {
      "cell_type": "markdown",
      "metadata": {
        "id": "ZC6m-D7YwEUu"
      },
      "source": [
        "# 1-VGG Block Baseline Model"
      ]
    },
    {
      "cell_type": "code",
      "metadata": {
        "id": "2wrgIifdv_zt"
      },
      "source": [
        "# define cnn model\n",
        "def define_model():\n",
        "  model = Sequential()\n",
        "  model.add(Conv2D(32, (3, 3), activation='relu', kernel_initializer='he_uniform',\n",
        "                   padding='same', input_shape=(110, 108, 3)))\n",
        "  model.add(MaxPooling2D((2, 2)))\n",
        "  model.add(Flatten())\n",
        "  model.add(Dense(128, activation='relu', kernel_initializer='he_uniform'))\n",
        "  model.add(Dense(10, activation='softmax'))\n",
        "  # compile model\n",
        "  opt = SGD(learning_rate=0.001, momentum=0.9)\n",
        "  model.compile(optimizer=opt, loss='categorical_crossentropy', metrics=['accuracy'])\n",
        "  return model"
      ],
      "execution_count": null,
      "outputs": []
    },
    {
      "cell_type": "code",
      "metadata": {
        "id": "H_HUXPN-yAQq"
      },
      "source": [
        "# plot diagnostic learning curves\n",
        "def summarize_diagnostics(history):\n",
        "  # plot loss\n",
        "  pyplot.subplot(211)\n",
        "  pyplot.title('Cross Entropy Loss')\n",
        "  pyplot.plot(history.history['loss'], color='blue', label='train')\n",
        "  pyplot.plot(history.history['val_loss'], color='orange', label='test')\n",
        "  # plot accuracy\n",
        "  pyplot.subplot(212)\n",
        "  pyplot.title('Classification Accuracy')\n",
        "  pyplot.plot(history.history['accuracy'], color='blue', label='train')\n",
        "  pyplot.plot(history.history['val_accuracy'], color='orange', label='test')\n",
        "  # save plot to file\n",
        "  filename = sys.argv[0].split('/')[-1]\n",
        "  pyplot.savefig(filename + '_plot.png')\n",
        "  pyplot.close()\n"
      ],
      "execution_count": null,
      "outputs": []
    },
    {
      "cell_type": "code",
      "metadata": {
        "id": "tJ8zK5e1ygCn"
      },
      "source": [
        "# run the test harness for evaluating a model\n",
        "def run_test_harness():\n",
        "  # define model\n",
        "  model = define_model()\n",
        "  # create data generator\n",
        "  datagen = ImageDataGenerator(rescale=1.0/255.0)\n",
        "  # prepare iterators\n",
        "  train_it = datagen.flow_from_directory('data/train/',\n",
        "                                         class_mode='categorical', batch_size=16, \n",
        "                                         target_size=(110, 108))\n",
        "  valid_it = datagen.flow_from_directory('data/validation/',\n",
        "                                        class_mode='categorical', \n",
        "                                        batch_size=16, \n",
        "                                        target_size=(110, 108))\n",
        "  test_it = datagen.flow_from_directory('data/test/',\n",
        "                                        class_mode='categorical', \n",
        "                                        batch_size=16, \n",
        "                                        target_size=(110, 108))\n",
        "  # fit model\n",
        "  history = model.fit(train_it, steps_per_epoch=len(train_it),\n",
        "                      validation_data=valid_it, \n",
        "                      validation_steps=len(valid_it), \n",
        "                      epochs=20, verbose=1)\n",
        "  # evaluate model\n",
        "  _, acc = model.evaluate(test_it, steps=len(test_it), verbose=0)\n",
        "  print('> %.3f' % (acc * 100.0))\n",
        "  # learning curves\n",
        "  summarize_diagnostics(history)"
      ],
      "execution_count": null,
      "outputs": []
    },
    {
      "cell_type": "code",
      "metadata": {
        "colab": {
          "base_uri": "https://localhost:8080/"
        },
        "id": "wp1f4YCAz8AX",
        "outputId": "0c1f9835-1bec-407f-e33c-661cec747eb5"
      },
      "source": [
        "# entry point, run the test harness\n",
        "run_test_harness()"
      ],
      "execution_count": null,
      "outputs": [
        {
          "output_type": "stream",
          "text": [
            "Found 8000 images belonging to 10 classes.\n",
            "Found 1000 images belonging to 10 classes.\n",
            "Found 1000 images belonging to 10 classes.\n",
            "Epoch 1/20\n",
            "500/500 [==============================] - 26s 24ms/step - loss: 2.2268 - accuracy: 0.1725 - val_loss: 1.8876 - val_accuracy: 0.2840\n",
            "Epoch 2/20\n",
            "500/500 [==============================] - 12s 23ms/step - loss: 1.8645 - accuracy: 0.2895 - val_loss: 1.6738 - val_accuracy: 0.3580\n",
            "Epoch 3/20\n",
            "500/500 [==============================] - 11s 22ms/step - loss: 1.6339 - accuracy: 0.3795 - val_loss: 1.4665 - val_accuracy: 0.4720\n",
            "Epoch 4/20\n",
            "500/500 [==============================] - 11s 22ms/step - loss: 1.4306 - accuracy: 0.4748 - val_loss: 1.2842 - val_accuracy: 0.5370\n",
            "Epoch 5/20\n",
            "500/500 [==============================] - 11s 22ms/step - loss: 1.2340 - accuracy: 0.5429 - val_loss: 1.1974 - val_accuracy: 0.5740\n",
            "Epoch 6/20\n",
            "500/500 [==============================] - 11s 22ms/step - loss: 1.1334 - accuracy: 0.5986 - val_loss: 1.1771 - val_accuracy: 0.5780\n",
            "Epoch 7/20\n",
            "500/500 [==============================] - 12s 24ms/step - loss: 0.9942 - accuracy: 0.6450 - val_loss: 1.0726 - val_accuracy: 0.6220\n",
            "Epoch 8/20\n",
            "500/500 [==============================] - 12s 24ms/step - loss: 0.9114 - accuracy: 0.6874 - val_loss: 1.0281 - val_accuracy: 0.6480\n",
            "Epoch 9/20\n",
            "500/500 [==============================] - 11s 22ms/step - loss: 0.8223 - accuracy: 0.7268 - val_loss: 0.9598 - val_accuracy: 0.6700\n",
            "Epoch 10/20\n",
            "500/500 [==============================] - 11s 22ms/step - loss: 0.7222 - accuracy: 0.7561 - val_loss: 0.9771 - val_accuracy: 0.6560\n",
            "Epoch 11/20\n",
            "500/500 [==============================] - 11s 22ms/step - loss: 0.6302 - accuracy: 0.7970 - val_loss: 1.0173 - val_accuracy: 0.6560\n",
            "Epoch 12/20\n",
            "500/500 [==============================] - 11s 22ms/step - loss: 0.5814 - accuracy: 0.8041 - val_loss: 0.8956 - val_accuracy: 0.6970\n",
            "Epoch 13/20\n",
            "500/500 [==============================] - 12s 24ms/step - loss: 0.4992 - accuracy: 0.8397 - val_loss: 1.1236 - val_accuracy: 0.6290\n",
            "Epoch 14/20\n",
            "500/500 [==============================] - 12s 24ms/step - loss: 0.4036 - accuracy: 0.8776 - val_loss: 0.9350 - val_accuracy: 0.6860\n",
            "Epoch 15/20\n",
            "500/500 [==============================] - 11s 22ms/step - loss: 0.3422 - accuracy: 0.8946 - val_loss: 0.9455 - val_accuracy: 0.6900\n",
            "Epoch 16/20\n",
            "500/500 [==============================] - 12s 24ms/step - loss: 0.2774 - accuracy: 0.9212 - val_loss: 0.9840 - val_accuracy: 0.6870\n",
            "Epoch 17/20\n",
            "500/500 [==============================] - 12s 23ms/step - loss: 0.2455 - accuracy: 0.9331 - val_loss: 0.9547 - val_accuracy: 0.6970\n",
            "Epoch 18/20\n",
            "500/500 [==============================] - 11s 22ms/step - loss: 0.1960 - accuracy: 0.9477 - val_loss: 1.0519 - val_accuracy: 0.6960\n",
            "Epoch 19/20\n",
            "500/500 [==============================] - 11s 22ms/step - loss: 0.1516 - accuracy: 0.9662 - val_loss: 1.0048 - val_accuracy: 0.7010\n",
            "Epoch 20/20\n",
            "500/500 [==============================] - 11s 22ms/step - loss: 0.1171 - accuracy: 0.9758 - val_loss: 0.9363 - val_accuracy: 0.7170\n"
          ],
          "name": "stdout"
        },
        {
          "output_type": "stream",
          "text": [
            "/usr/local/lib/python3.7/dist-packages/keras/engine/training.py:1948: UserWarning: `Model.evaluate_generator` is deprecated and will be removed in a future version. Please use `Model.evaluate`, which supports generators.\n",
            "  warnings.warn('`Model.evaluate_generator` is deprecated and '\n"
          ],
          "name": "stderr"
        },
        {
          "output_type": "stream",
          "text": [
            "> 68.000\n"
          ],
          "name": "stdout"
        }
      ]
    },
    {
      "cell_type": "code",
      "metadata": {
        "id": "IV3YnuWz3kc8",
        "colab": {
          "base_uri": "https://localhost:8080/"
        },
        "outputId": "2b6b5c8c-bea0-4306-eb58-d7b9c2ec7df5"
      },
      "source": [
        "%%shell\n",
        "jupyter nbconvert --to html /content/MSDS458_A_4_4A_Modeling_Experiments.ipynb"
      ],
      "execution_count": null,
      "outputs": [
        {
          "output_type": "stream",
          "text": [
            "[NbConvertApp] Converting notebook /content/MSDS458_A_4_4A_Modeling_Experiments.ipynb to html\n",
            "[NbConvertApp] Writing 294652 bytes to /content/MSDS458_A_4_4A_Modeling_Experiments.html\n"
          ],
          "name": "stdout"
        },
        {
          "output_type": "execute_result",
          "data": {
            "text/plain": [
              ""
            ]
          },
          "metadata": {
            "tags": []
          },
          "execution_count": 1
        }
      ]
    }
  ]
}